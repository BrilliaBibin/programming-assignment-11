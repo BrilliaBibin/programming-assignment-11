{
 "cells": [
  {
   "cell_type": "raw",
   "id": "78e7b87f-8d3d-4eb0-98fc-1962f67357ed",
   "metadata": {},
   "source": [
    "1. Write a Python program to find words which are greater than given length k?"
   ]
  },
  {
   "cell_type": "code",
   "execution_count": 2,
   "id": "e11f622b-6837-4183-8f2e-08835362b718",
   "metadata": {},
   "outputs": [
    {
     "name": "stdout",
     "output_type": "stream",
     "text": [
      "Python\n",
      "good\n",
      "easy\n"
     ]
    }
   ],
   "source": [
    "def word_k(k, s):    \n",
    "\n",
    "    word = s.split(\" \")\n",
    "    \n",
    "    for x in word:\n",
    "        \n",
    "        if len(x)>k:\n",
    "          \n",
    "          print(x)\n",
    "k = 3\n",
    "s =\"Python is good and easy\"\n",
    "word_k(k, s)"
   ]
  },
  {
   "cell_type": "raw",
   "id": "238fd452-6fd3-435b-8a8c-b53b4a322db4",
   "metadata": {},
   "source": [
    "2. Write a Python program for removing i-th character from a string?"
   ]
  },
  {
   "cell_type": "code",
   "execution_count": 3,
   "id": "e60ab367-6867-4f0d-9ea2-9a2f91c3434d",
   "metadata": {},
   "outputs": [
    {
     "name": "stdin",
     "output_type": "stream",
     "text": [
      "Enter the string :  Welcome To Python\n",
      "Enter the index of character to be removed :  6\n"
     ]
    },
    {
     "name": "stdout",
     "output_type": "stream",
     "text": [
      "Entered string : Welcome To Python\n",
      "String formed by removing i'th character : Welcom To Python\n"
     ]
    }
   ],
   "source": [
    "myStr =  input('Enter the string : ')\n",
    "i = int(input('Enter the index of character to be removed : '))\n",
    "\n",
    "resStr = \"\"\n",
    "\n",
    "for index in range(len(myStr)):\n",
    "\tif index != i:\n",
    "\t\tresStr = resStr + myStr[index]\n",
    "\n",
    " \n",
    "print (\"Entered string : \" + myStr)\n",
    "print (\"String formed by removing i'th character : \" + resStr)"
   ]
  },
  {
   "cell_type": "raw",
   "id": "40908a9e-a7f3-4517-ae58-da9e846c4d37",
   "metadata": {},
   "source": [
    "3. Write a Python program to split and join a string?"
   ]
  },
  {
   "cell_type": "code",
   "execution_count": 4,
   "id": "02c2316a-3344-4ead-97b5-4234ac7fb48d",
   "metadata": {},
   "outputs": [
    {
     "name": "stdout",
     "output_type": "stream",
     "text": [
      "After Splitting:  ['Welcome', 'to', 'python', 'program']\n",
      "After joining:  Welcome-to-python-program\n"
     ]
    }
   ],
   "source": [
    "def split_string(string):\n",
    "    \n",
    "    list_string = string.split(' ')\n",
    "    return list_string\n",
    "\n",
    "def join_string(list_string):\n",
    "    \n",
    "    string = '-'.join(list_string)\n",
    "    return string\n",
    "\n",
    "string = 'Welcome to python program'\n",
    "\n",
    "list_string = split_string(string)\n",
    "print(\"After Splitting: \",list_string)\n",
    "\n",
    "res_string = join_string(list_string)\n",
    "print(\"After joining: \",res_string)"
   ]
  },
  {
   "cell_type": "raw",
   "id": "dd79f9ab-a4fc-4065-993e-6db672b36c50",
   "metadata": {},
   "source": [
    "4. Write a Python to check if a given string is binary string or not?"
   ]
  },
  {
   "cell_type": "code",
   "execution_count": 5,
   "id": "77eaa99a-f618-4c4d-b0a2-3563bfdc175c",
   "metadata": {},
   "outputs": [
    {
     "name": "stdout",
     "output_type": "stream",
     "text": [
      "Binary String\n",
      "Non Binary String\n"
     ]
    }
   ],
   "source": [
    "def check(string) :\n",
    "    b = set(string)\n",
    "    s = {'0', '1'}\n",
    "    if s == b or b == {'0'} or b == {'1'}:\n",
    "        print(\"Binary String\")\n",
    "    else :\n",
    "        print(\"Non Binary String\")\n",
    "  \n",
    "s1= \"00110101\"\n",
    "check(s1)\n",
    "s2 = \"1010100200111\"\n",
    "check(s2)"
   ]
  },
  {
   "cell_type": "raw",
   "id": "1819d3b1-9ea5-4429-926c-05da3c2d8364",
   "metadata": {},
   "source": [
    "5. Write a Python program to find uncommon words from two Strings?"
   ]
  },
  {
   "cell_type": "code",
   "execution_count": 6,
   "id": "c2980237-d1b7-4a1e-af3c-bae0e54a6e22",
   "metadata": {},
   "outputs": [
    {
     "name": "stdin",
     "output_type": "stream",
     "text": [
      "Enter first string :  welcome to python program\n",
      "Enter second string :  python program\n"
     ]
    },
    {
     "name": "stdout",
     "output_type": "stream",
     "text": [
      "All uncommon words from both the string are  ['welcome', 'to']\n"
     ]
    }
   ],
   "source": [
    "str1 = input('Enter first string : ')\n",
    "str2 = input('Enter second string : ')\n",
    "\n",
    "\n",
    "count = {}\n",
    "for word in str1.split():\n",
    "    count[word] = count.get(word, 0) + 1\n",
    "for word in str2.split():\n",
    "    count[word] = count.get(word, 0) + 1\n",
    "  \n",
    "uncommonWords =  [word for word in count if count[word] == 1]\n",
    "\n",
    "\n",
    "print(\"All uncommon words from both the string are \", uncommonWords)\n"
   ]
  },
  {
   "cell_type": "raw",
   "id": "dfb1bd5c-e926-434e-b74b-ae7b34223eb6",
   "metadata": {},
   "source": [
    "6. Write a Python to find all duplicate characters in string?"
   ]
  },
  {
   "cell_type": "code",
   "execution_count": 8,
   "id": "3965e0bc-4252-425e-ab45-b2ce745a7dc2",
   "metadata": {},
   "outputs": [
    {
     "name": "stdin",
     "output_type": "stream",
     "text": [
      " programming\n"
     ]
    },
    {
     "name": "stdout",
     "output_type": "stream",
     "text": [
      "The duplicate characters are ['r', 'g', 'm']\n"
     ]
    }
   ],
   "source": [
    "string = input()\n",
    "dups=[]\n",
    "for ch in string:\n",
    "  if string.count(ch)>1 and ch not in dups:\n",
    "    dups.append(ch)\n",
    "print('The duplicate characters are {}'.format(dups))"
   ]
  },
  {
   "cell_type": "raw",
   "id": "9481e2ae-18f1-4309-baae-c97c57179927",
   "metadata": {},
   "source": [
    "7. Write a Python Program to check if a string contains any special character?"
   ]
  },
  {
   "cell_type": "code",
   "execution_count": 10,
   "id": "cf2f53aa-4b09-455f-8ccb-6f21ada7a147",
   "metadata": {},
   "outputs": [
    {
     "name": "stdin",
     "output_type": "stream",
     "text": [
      "Enter any string:  @#$python program\n"
     ]
    },
    {
     "name": "stdout",
     "output_type": "stream",
     "text": [
      "The string contains special characters.\n"
     ]
    }
   ],
   "source": [
    "import re\n",
    "\n",
    "string = input('Enter any string: ')\n",
    " \n",
    "special_char = re.compile('[@_!#$%^&*()<>?/\\|}{~:]')\n",
    "\n",
    "if(special_char.search(string) == None):\n",
    "    print('String does not contain any special characters.')\n",
    "else:\n",
    "    print('The string contains special characters.')"
   ]
  },
  {
   "cell_type": "code",
   "execution_count": null,
   "id": "e151c816-60db-4b24-90c8-96bbb41222c1",
   "metadata": {},
   "outputs": [],
   "source": []
  }
 ],
 "metadata": {
  "kernelspec": {
   "display_name": "Python 3 (ipykernel)",
   "language": "python",
   "name": "python3"
  },
  "language_info": {
   "codemirror_mode": {
    "name": "ipython",
    "version": 3
   },
   "file_extension": ".py",
   "mimetype": "text/x-python",
   "name": "python",
   "nbconvert_exporter": "python",
   "pygments_lexer": "ipython3",
   "version": "3.10.6"
  }
 },
 "nbformat": 4,
 "nbformat_minor": 5
}
